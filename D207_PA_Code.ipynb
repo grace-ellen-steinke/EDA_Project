{
 "cells": [
  {
   "cell_type": "code",
   "execution_count": 139,
   "id": "20b5e8f8",
   "metadata": {},
   "outputs": [],
   "source": [
    "import pandas as pd"
   ]
  },
  {
   "cell_type": "code",
   "execution_count": 140,
   "id": "953ae6b1",
   "metadata": {},
   "outputs": [],
   "source": [
    "import numpy as np"
   ]
  },
  {
   "cell_type": "code",
   "execution_count": 141,
   "id": "45c1b103",
   "metadata": {},
   "outputs": [],
   "source": [
    "import matplotlib.pyplot as plt"
   ]
  },
  {
   "cell_type": "code",
   "execution_count": 142,
   "id": "c8426756",
   "metadata": {},
   "outputs": [],
   "source": [
    "med_readmis = 'C:/Users/grace/OneDrive/Desktop/D207/medical_data_D207.csv'"
   ]
  },
  {
   "cell_type": "code",
   "execution_count": 143,
   "id": "44fcad73",
   "metadata": {},
   "outputs": [],
   "source": [
    "med_df = pd.read_csv(med_readmis)"
   ]
  },
  {
   "cell_type": "code",
   "execution_count": 144,
   "id": "0d93b779",
   "metadata": {},
   "outputs": [
    {
     "data": {
      "text/plain": [
       "(10000, 50)"
      ]
     },
     "execution_count": 144,
     "metadata": {},
     "output_type": "execute_result"
    }
   ],
   "source": [
    "med_df.shape"
   ]
  },
  {
   "cell_type": "code",
   "execution_count": 145,
   "id": "9fafa2b1",
   "metadata": {},
   "outputs": [
    {
     "name": "stdout",
     "output_type": "stream",
     "text": [
      "   CaseOrder Customer_id                           Interaction  \\\n",
      "0          1     C412403  8cd49b13-f45a-4b47-a2bd-173ffa932c2f   \n",
      "1          2     Z919181  d2450b70-0337-4406-bdbb-bc1037f1734c   \n",
      "2          3     F995323  a2057123-abf5-4a2c-abad-8ffe33512562   \n",
      "3          4     A879973  1dec528d-eb34-4079-adce-0d7a40e82205   \n",
      "4          5     C544523  5885f56b-d6da-43a3-8760-83583af94266   \n",
      "\n",
      "                                UID          City State        County    Zip  \\\n",
      "0  3a83ddb66e2ae73798bdf1d705dc0932           Eva    AL        Morgan  35621   \n",
      "1  176354c5eef714957d486009feabf195      Marianna    FL       Jackson  32446   \n",
      "2  e19a0fa00aeda885b8a436757e889bc9   Sioux Falls    SD     Minnehaha  57110   \n",
      "3  cd17d7b6d152cb6f23957346d11c3f07  New Richland    MN        Waseca  56072   \n",
      "4  d2f0425877b10ed6bb381f3e2579424a    West Point    VA  King William  23181   \n",
      "\n",
      "        Lat       Lng  ...  TotalCharge Additional_charges Item1 Item2  Item3  \\\n",
      "0  34.34960 -86.72508  ...  3726.702860       17939.403420     3     3      2   \n",
      "1  30.84513 -85.22907  ...  4193.190458       17612.998120     3     4      3   \n",
      "2  43.54321 -96.63772  ...  2434.234222       17505.192460     2     4      4   \n",
      "3  43.89744 -93.51479  ...  2127.830423       12993.437350     3     5      5   \n",
      "4  37.59894 -76.88958  ...  2113.073274        3716.525786     2     1      3   \n",
      "\n",
      "   Item4  Item5 Item6 Item7 Item8  \n",
      "0      2      4     3     3     4  \n",
      "1      4      4     4     3     3  \n",
      "2      4      3     4     3     3  \n",
      "3      3      4     5     5     5  \n",
      "4      3      5     3     4     3  \n",
      "\n",
      "[5 rows x 50 columns]\n"
     ]
    }
   ],
   "source": [
    "print(med_df.head())"
   ]
  },
  {
   "cell_type": "code",
   "execution_count": 146,
   "id": "202f9a71",
   "metadata": {},
   "outputs": [
    {
     "name": "stdout",
     "output_type": "stream",
     "text": [
      "<class 'pandas.core.frame.DataFrame'>\n",
      "RangeIndex: 10000 entries, 0 to 9999\n",
      "Data columns (total 50 columns):\n",
      " #   Column              Non-Null Count  Dtype  \n",
      "---  ------              --------------  -----  \n",
      " 0   CaseOrder           10000 non-null  int64  \n",
      " 1   Customer_id         10000 non-null  object \n",
      " 2   Interaction         10000 non-null  object \n",
      " 3   UID                 10000 non-null  object \n",
      " 4   City                10000 non-null  object \n",
      " 5   State               10000 non-null  object \n",
      " 6   County              10000 non-null  object \n",
      " 7   Zip                 10000 non-null  int64  \n",
      " 8   Lat                 10000 non-null  float64\n",
      " 9   Lng                 10000 non-null  float64\n",
      " 10  Population          10000 non-null  int64  \n",
      " 11  Area                10000 non-null  object \n",
      " 12  TimeZone            10000 non-null  object \n",
      " 13  Job                 10000 non-null  object \n",
      " 14  Children            10000 non-null  int64  \n",
      " 15  Age                 10000 non-null  int64  \n",
      " 16  Income              10000 non-null  float64\n",
      " 17  Marital             10000 non-null  object \n",
      " 18  Gender              10000 non-null  object \n",
      " 19  ReAdmis             10000 non-null  object \n",
      " 20  VitD_levels         10000 non-null  float64\n",
      " 21  Doc_visits          10000 non-null  int64  \n",
      " 22  Full_meals_eaten    10000 non-null  int64  \n",
      " 23  vitD_supp           10000 non-null  int64  \n",
      " 24  Soft_drink          10000 non-null  object \n",
      " 25  Initial_admin       10000 non-null  object \n",
      " 26  HighBlood           10000 non-null  object \n",
      " 27  Stroke              10000 non-null  object \n",
      " 28  Complication_risk   10000 non-null  object \n",
      " 29  Overweight          10000 non-null  object \n",
      " 30  Arthritis           10000 non-null  object \n",
      " 31  Diabetes            10000 non-null  object \n",
      " 32  Hyperlipidemia      10000 non-null  object \n",
      " 33  BackPain            10000 non-null  object \n",
      " 34  Anxiety             10000 non-null  object \n",
      " 35  Allergic_rhinitis   10000 non-null  object \n",
      " 36  Reflux_esophagitis  10000 non-null  object \n",
      " 37  Asthma              10000 non-null  object \n",
      " 38  Services            10000 non-null  object \n",
      " 39  Initial_days        10000 non-null  float64\n",
      " 40  TotalCharge         10000 non-null  float64\n",
      " 41  Additional_charges  10000 non-null  float64\n",
      " 42  Item1               10000 non-null  int64  \n",
      " 43  Item2               10000 non-null  int64  \n",
      " 44  Item3               10000 non-null  int64  \n",
      " 45  Item4               10000 non-null  int64  \n",
      " 46  Item5               10000 non-null  int64  \n",
      " 47  Item6               10000 non-null  int64  \n",
      " 48  Item7               10000 non-null  int64  \n",
      " 49  Item8               10000 non-null  int64  \n",
      "dtypes: float64(7), int64(16), object(27)\n",
      "memory usage: 3.8+ MB\n"
     ]
    }
   ],
   "source": [
    "med_df.info()"
   ]
  },
  {
   "cell_type": "code",
   "execution_count": 147,
   "id": "9aced2b5",
   "metadata": {},
   "outputs": [],
   "source": [
    "from scipy import stats"
   ]
  },
  {
   "cell_type": "code",
   "execution_count": 149,
   "id": "61460333",
   "metadata": {},
   "outputs": [
    {
     "name": "stdout",
     "output_type": "stream",
     "text": [
      "No     6331\n",
      "Yes    3669\n",
      "Name: ReAdmis, dtype: int64 Rural       3369\n",
      "Suburban    3328\n",
      "Urban       3303\n",
      "Name: Area, dtype: int64\n"
     ]
    }
   ],
   "source": [
    "#Configure readmission value counts ratio\n",
    "readmis_ratio = med_df['ReAdmis'].value_counts()\n",
    "areas_ratio = med_df['Area'].value_counts()\n",
    "\n",
    "print(readmis_ratio, areas_ratio)"
   ]
  },
  {
   "cell_type": "code",
   "execution_count": 150,
   "id": "6a4deddf",
   "metadata": {},
   "outputs": [],
   "source": [
    "#Create contingency table\n",
    "data_crosstab = pd.crosstab(med_df['Area'], med_df['ReAdmis'], margins=True, margins_name=\"Total\")"
   ]
  },
  {
   "cell_type": "code",
   "execution_count": 151,
   "id": "5eafb0c5",
   "metadata": {},
   "outputs": [],
   "source": [
    "#Significance level\n",
    "alpha = 0.05"
   ]
  },
  {
   "cell_type": "code",
   "execution_count": 152,
   "id": "991747b0",
   "metadata": {},
   "outputs": [],
   "source": [
    "#Calculation of Chisquare test statistic\n",
    "chi_square = 0\n",
    "rows = med_df['Area'].unique()\n",
    "columns = med_df['ReAdmis'].unique()\n",
    "for i in columns:\n",
    "    for j in rows:\n",
    "        O = data_crosstab[i][j]\n",
    "        E = data_crosstab[i]['Total'] * data_crosstab['Total'][j] / data_crosstab['Total']['Total']\n",
    "        chi_square += (O-E)**2/E"
   ]
  },
  {
   "cell_type": "code",
   "execution_count": 153,
   "id": "c3b49ef7",
   "metadata": {},
   "outputs": [
    {
     "name": "stdout",
     "output_type": "stream",
     "text": [
      "The p-value approach to hypothesis testing in the decision rule\n",
      "chisquare-score is: 0.7133125620168337  and p value is: 0.6128241714683622\n",
      "Failed to reject the null hypothesis.\n"
     ]
    }
   ],
   "source": [
    "#The p-value approach\n",
    "print(\"The p-value approach to hypothesis testing in the decision rule\")\n",
    "p_value = 1 - stats.norm.cdf(chi_square, (len(columns)-1))\n",
    "conclusion = \"Failed to reject the null hypothesis.\"\n",
    "if p_value <= alpha:\n",
    "    conclusion = \"Null Hypothesis is rejected.\"\n",
    "\n",
    "print(\"chisquare-score is:\", chi_square, \" and p value is:\", p_value)\n",
    "print(conclusion)"
   ]
  },
  {
   "cell_type": "code",
   "execution_count": 154,
   "id": "919c9847",
   "metadata": {},
   "outputs": [
    {
     "name": "stdout",
     "output_type": "stream",
     "text": [
      "[18. 36. 53. 71. 89.]\n"
     ]
    }
   ],
   "source": [
    "#Calculate the quartiles of Age\n",
    "print(np.quantile(med_df['Age'], [0, 0.25, 0.5, 0.75, 1]))"
   ]
  },
  {
   "cell_type": "code",
   "execution_count": 155,
   "id": "80b98e62",
   "metadata": {},
   "outputs": [
    {
     "data": {
      "text/plain": [
       "<AxesSubplot:>"
      ]
     },
     "execution_count": 155,
     "metadata": {},
     "output_type": "execute_result"
    },
    {
     "data": {
      "image/png": "[encoded data removed]",
      "text/plain": [
       "<Figure size 432x288 with 1 Axes>"
      ]
     },
     "metadata": {
      "needs_background": "light"
     },
     "output_type": "display_data"
    }
   ],
   "source": [
    "#Create Box Plot to visually represent the distribution of Age\n",
    "med_df.boxplot(column = ['Age'])"
   ]
  },
  {
   "cell_type": "code",
   "execution_count": 156,
   "id": "be4cefee",
   "metadata": {},
   "outputs": [
    {
     "name": "stdout",
     "output_type": "stream",
     "text": [
      "[1.54080000e+02 1.95987750e+04 3.37684200e+04 5.42964025e+04\n",
      " 2.07249100e+05]\n"
     ]
    }
   ],
   "source": [
    "#Calculate the quartiles of Income\n",
    "print(np.quantile(med_df['Income'], [0, 0.25, 0.5, 0.75, 1]))"
   ]
  },
  {
   "cell_type": "code",
   "execution_count": 157,
   "id": "90ea6981",
   "metadata": {},
   "outputs": [
    {
     "data": {
      "text/plain": [
       "<AxesSubplot:>"
      ]
     },
     "execution_count": 157,
     "metadata": {},
     "output_type": "execute_result"
    },
    {
     "data": {
      "image/png": "[encoded data removed]",
      "text/plain": [
       "<Figure size 432x288 with 1 Axes>"
      ]
     },
     "metadata": {
      "needs_background": "light"
     },
     "output_type": "display_data"
    }
   ],
   "source": [
    "#Create Box Plot to visually represent the distribution of Income\n",
    "med_df.boxplot(column = ['Income'])"
   ]
  },
  {
   "cell_type": "code",
   "execution_count": 158,
   "id": "be764127",
   "metadata": {},
   "outputs": [
    {
     "data": {
      "text/html": [
       "<div>\n",
       "<style scoped>\n",
       "    .dataframe tbody tr th:only-of-type {\n",
       "        vertical-align: middle;\n",
       "    }\n",
       "\n",
       "    .dataframe tbody tr th {\n",
       "        vertical-align: top;\n",
       "    }\n",
       "\n",
       "    .dataframe thead th {\n",
       "        text-align: right;\n",
       "    }\n",
       "</style>\n",
       "<table border=\"1\" class=\"dataframe\">\n",
       "  <thead>\n",
       "    <tr style=\"text-align: right;\">\n",
       "      <th>col_0</th>\n",
       "      <th>count</th>\n",
       "    </tr>\n",
       "    <tr>\n",
       "      <th>Marital</th>\n",
       "      <th></th>\n",
       "    </tr>\n",
       "  </thead>\n",
       "  <tbody>\n",
       "    <tr>\n",
       "      <th>Divorced</th>\n",
       "      <td>1961</td>\n",
       "    </tr>\n",
       "    <tr>\n",
       "      <th>Married</th>\n",
       "      <td>2023</td>\n",
       "    </tr>\n",
       "    <tr>\n",
       "      <th>Never Married</th>\n",
       "      <td>1984</td>\n",
       "    </tr>\n",
       "    <tr>\n",
       "      <th>Separated</th>\n",
       "      <td>1987</td>\n",
       "    </tr>\n",
       "    <tr>\n",
       "      <th>Widowed</th>\n",
       "      <td>2045</td>\n",
       "    </tr>\n",
       "  </tbody>\n",
       "</table>\n",
       "</div>"
      ],
      "text/plain": [
       "col_0          count\n",
       "Marital             \n",
       "Divorced        1961\n",
       "Married         2023\n",
       "Never Married   1984\n",
       "Separated       1987\n",
       "Widowed         2045"
      ]
     },
     "execution_count": 158,
     "metadata": {},
     "output_type": "execute_result"
    }
   ],
   "source": [
    "#Find frequency of each marital status\n",
    "pd.crosstab(index=med_df['Marital'], columns='count')"
   ]
  },
  {
   "cell_type": "code",
   "execution_count": 159,
   "id": "00e23084",
   "metadata": {},
   "outputs": [
    {
     "data": {
      "image/png": "[encoded data removed]",
      "text/plain": [
       "<Figure size 432x288 with 1 Axes>"
      ]
     },
     "metadata": {
      "needs_background": "light"
     },
     "output_type": "display_data"
    }
   ],
   "source": [
    "#Create histogram to show frequency distribution of each marital status\n",
    "plt.hist(med_df['Marital'])\n",
    "plt.show()"
   ]
  },
  {
   "cell_type": "code",
   "execution_count": 160,
   "id": "c51df966",
   "metadata": {},
   "outputs": [
    {
     "data": {
      "text/html": [
       "<div>\n",
       "<style scoped>\n",
       "    .dataframe tbody tr th:only-of-type {\n",
       "        vertical-align: middle;\n",
       "    }\n",
       "\n",
       "    .dataframe tbody tr th {\n",
       "        vertical-align: top;\n",
       "    }\n",
       "\n",
       "    .dataframe thead th {\n",
       "        text-align: right;\n",
       "    }\n",
       "</style>\n",
       "<table border=\"1\" class=\"dataframe\">\n",
       "  <thead>\n",
       "    <tr style=\"text-align: right;\">\n",
       "      <th>col_0</th>\n",
       "      <th>count</th>\n",
       "    </tr>\n",
       "    <tr>\n",
       "      <th>Gender</th>\n",
       "      <th></th>\n",
       "    </tr>\n",
       "  </thead>\n",
       "  <tbody>\n",
       "    <tr>\n",
       "      <th>Female</th>\n",
       "      <td>5018</td>\n",
       "    </tr>\n",
       "    <tr>\n",
       "      <th>Male</th>\n",
       "      <td>4768</td>\n",
       "    </tr>\n",
       "    <tr>\n",
       "      <th>Nonbinary</th>\n",
       "      <td>214</td>\n",
       "    </tr>\n",
       "  </tbody>\n",
       "</table>\n",
       "</div>"
      ],
      "text/plain": [
       "col_0      count\n",
       "Gender          \n",
       "Female      5018\n",
       "Male        4768\n",
       "Nonbinary    214"
      ]
     },
     "execution_count": 160,
     "metadata": {},
     "output_type": "execute_result"
    }
   ],
   "source": [
    "#Find frequency of each gender\n",
    "pd.crosstab(index=med_df['Gender'], columns='count')"
   ]
  },
  {
   "cell_type": "code",
   "execution_count": 161,
   "id": "115a42e1",
   "metadata": {},
   "outputs": [
    {
     "data": {
      "image/png": "[encoded data removed]",
      "text/plain": [
       "<Figure size 432x288 with 1 Axes>"
      ]
     },
     "metadata": {
      "needs_background": "light"
     },
     "output_type": "display_data"
    }
   ],
   "source": [
    "#Create histogram to show frequency distribution of each gender specified\n",
    "plt.hist(med_df['Gender'])\n",
    "plt.show()"
   ]
  },
  {
   "cell_type": "code",
   "execution_count": 162,
   "id": "9dd5d485",
   "metadata": {},
   "outputs": [
    {
     "name": "stdout",
     "output_type": "stream",
     "text": [
      "                        var           std\n",
      "Marital                                  \n",
      "Divorced       8.750829e+08  29581.799691\n",
      "Married        8.171095e+08  28585.127379\n",
      "Never Married  8.182316e+08  28604.747602\n",
      "Separated      7.826233e+08  27975.404799\n",
      "Widowed        7.758870e+08  27854.747824\n"
     ]
    }
   ],
   "source": [
    "#Print variance and sd of Income for each Marital status\n",
    "print(med_df.groupby('Marital')['Income'].agg([np.var, np.std]))"
   ]
  },
  {
   "cell_type": "code",
   "execution_count": 163,
   "id": "e50552af",
   "metadata": {},
   "outputs": [
    {
     "data": {
      "image/png": "[encoded data removed]",
      "text/plain": [
       "<Figure size 432x288 with 1 Axes>"
      ]
     },
     "metadata": {
      "needs_background": "light"
     },
     "output_type": "display_data"
    }
   ],
   "source": [
    "#Create a histogram of Income for Martial status 'Divorced'\n",
    "med_df[med_df['Marital'] == 'Divorced']['Income'].hist()\n",
    "plt.xlabel('Income')\n",
    "plt.ylabel('Divorced Patients')\n",
    "plt.show()"
   ]
  },
  {
   "cell_type": "code",
   "execution_count": 164,
   "id": "6f93e853",
   "metadata": {},
   "outputs": [
    {
     "name": "stdout",
     "output_type": "stream",
     "text": [
      "                  var        std\n",
      "Gender                          \n",
      "Female     424.189726  20.595867\n",
      "Male       427.130031  20.667124\n",
      "Nonbinary  439.637423  20.967533\n"
     ]
    }
   ],
   "source": [
    "#Print variance and sd of Age for each Gender\n",
    "print(med_df.groupby('Gender')['Age'].agg([np.var, np.std]))"
   ]
  },
  {
   "cell_type": "code",
   "execution_count": 165,
   "id": "b5bb15bd",
   "metadata": {},
   "outputs": [
    {
     "data": {
      "image/png": "[encoded data removed]",
      "text/plain": [
       "<Figure size 432x288 with 1 Axes>"
      ]
     },
     "metadata": {
      "needs_background": "light"
     },
     "output_type": "display_data"
    }
   ],
   "source": [
    "#Create a histogram of Age for Gender specified as 'Nonbinary'\n",
    "med_df[med_df['Gender'] == 'Nonbinary']['Age'].hist()\n",
    "plt.xlabel('Age')\n",
    "plt.ylabel('Nonbinary Gender')\n",
    "plt.show()"
   ]
  },
  {
   "cell_type": "code",
   "execution_count": null,
   "id": "fc35ef48",
   "metadata": {},
   "outputs": [],
   "source": []
  }
 ],
 "metadata": {
  "kernelspec": {
   "display_name": "Python 3",
   "language": "python",
   "name": "python3"
  },
  "language_info": {
   "codemirror_mode": {
    "name": "ipython",
    "version": 3
   },
   "file_extension": ".py",
   "mimetype": "text/x-python",
   "name": "python",
   "nbconvert_exporter": "python",
   "pygments_lexer": "ipython3",
   "version": "3.8.8"
  }
 },
 "nbformat": 4,
 "nbformat_minor": 5
}
